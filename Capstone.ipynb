{
 "cells": [
  {
   "cell_type": "markdown",
   "id": "cbdd630a-f570-449f-8fe6-c0c8ea826561",
   "metadata": {
    "tags": []
   },
   "source": [
    "### Capstone I\n",
    "**Goal:** The goal of this project is to identify how to better detect those at risk for suicide. I will be comparing the performance of different classification algorithms by training several models (Naive Bayes, Logistic Regression, and Decision Trees) to detect suicide ideation from social media posts. After comparing model performance, we will further scrutinize the models to identify the features and parameters which most effectively predict whether a user is at risk for suicide.\n",
    "\n",
    "**Data**\n",
    "\n",
    "The data is sourced from Kaggle \n",
    "\n",
    "\n",
    "link: https://www.kaggle.com/datasets/nikhileswarkomati/suicide-watch \n",
    "- The data are a collection of posts collected from the 'SuicideWatch' and 'teenagers' subreddits from the Reddit platform using PushshiftAPI. Posts were created between 16 December 2008 - 2 January 2021\n",
    "- Social media posts collected from the 'SuicideWatch' subreddit are labelled 'suicide', while posts collected from 'teenagers' are labelled 'non-suicide'"
   ]
  },
  {
   "cell_type": "markdown",
   "id": "7c43104b-7d0d-4869-ba36-3e5cf4b4795b",
   "metadata": {
    "jp-MarkdownHeadingCollapsed": true,
    "tags": []
   },
   "source": [
    "#### Import and Setup"
   ]
  },
  {
   "cell_type": "code",
   "execution_count": 4,
   "id": "71521507-a45b-4135-8cac-e029b46efa3e",
   "metadata": {},
   "outputs": [],
   "source": [
    "import nltk\n",
    "import time\n",
    "import string\n",
    "import warnings\n",
    "import numpy as np\n",
    "import pandas as pd \n",
    "import seaborn as sns \n",
    "import plotly.express as px\n",
    "import matplotlib.pyplot as plt\n",
    "\n",
    "from wordcloud import WordCloud, STOPWORDS\n",
    "\n",
    "from nltk.corpus import stopwords \n",
    "from nltk import word_tokenize, sent_tokenize \n",
    "from nltk.stem import PorterStemmer, WordNetLemmatizer \n",
    "from nltk.tokenize import TweetTokenizer\n",
    "\n",
    "from sklearn.pipeline import Pipeline\n",
    "from sklearn.svm import SVC\n",
    "from sklearn.naive_bayes import MultinomialNB\n",
    "from sklearn.tree import DecisionTreeClassifier\n",
    "from sklearn.neighbors import KNeighborsClassifier\n",
    "from sklearn.linear_model import LogisticRegression\n",
    "from sklearn.preprocessing import StandardScaler, PolynomialFeatures\n",
    "from sklearn.feature_extraction.text import CountVectorizer, TfidfVectorizer\n",
    "from sklearn.model_selection import train_test_split, GridSearchCV, RandomizedSearchCV \n",
    "from sklearn.metrics import mean_squared_error, accuracy_score, recall_score \n",
    "from sklearn.metrics import confusion_matrix, ConfusionMatrixDisplay, classification_report\n",
    "sns.set_style(\"whitegrid\")\n",
    "sns.set_palette(\"rocket\")\n",
    "warnings.simplefilter(action='ignore')"
   ]
  },
  {
   "cell_type": "code",
   "execution_count": null,
   "id": "78360374-94cc-430d-b129-561271a57fdb",
   "metadata": {},
   "outputs": [],
   "source": [
    "#import eli5"
   ]
  },
  {
   "cell_type": "code",
   "execution_count": 28,
   "id": "3cc84783-a63d-425f-a023-cef7572e5752",
   "metadata": {},
   "outputs": [
    {
     "name": "stderr",
     "output_type": "stream",
     "text": [
      "[nltk_data] Downloading package wordnet to /Users/lois/nltk_data...\n",
      "[nltk_data]   Package wordnet is already up-to-date!\n",
      "[nltk_data] Downloading package stopwords to /Users/lois/nltk_data...\n",
      "[nltk_data]   Package stopwords is already up-to-date!\n",
      "[nltk_data] Downloading package omw-1.4 to /Users/lois/nltk_data...\n"
     ]
    },
    {
     "data": {
      "text/plain": [
       "True"
      ]
     },
     "execution_count": 28,
     "metadata": {},
     "output_type": "execute_result"
    }
   ],
   "source": [
    "nltk.download('wordnet')\n",
    "nltk.download('stopwords')\n",
    "nltk.download('omw-1.4')"
   ]
  },
  {
   "cell_type": "markdown",
   "id": "d12bb9a3-cd13-4e06-a0df-2221b9200e35",
   "metadata": {},
   "source": [
    "#### Overview \n",
    "\n",
    "**Data Problem**: The data task is to train and tune multiple binary text classification models to group social media posts into suicidal vs non-suicidal classes. Models with high accuracy will be used to predict, from future/unseen posts, whether their writer is at risk for suicide. Further scrutinizing the most important features and parameters which compose the best model will indicate better ways to detect suicide risk. \n",
    "\n",
    "\n",
    "\n",
    "\n",
    "**Data Overview** \n",
    "- No missing values in the data\n",
    "- 232074 samples/rows \n",
    "- 3 columns: \n",
    "       1. Unnamed: 0: A unique ID for each row \n",
    "       2. text: Content of the social media post\n",
    "       3. class: Whether the poster is suicidal or not; values: ['suicide', 'non-suicide']"
   ]
  },
  {
   "cell_type": "code",
   "execution_count": 7,
   "id": "bc05e92a-5027-4b68-b5ae-b7acdd6477eb",
   "metadata": {},
   "outputs": [],
   "source": [
    "suicide = pd.read_csv(\"/Users/Lois/Downloads/ML ipynb/Capstone/SuicideDetection.csv\")"
   ]
  },
  {
   "cell_type": "code",
   "execution_count": 8,
   "id": "307451e6-1e0d-4051-83cb-4a2bdda61c37",
   "metadata": {},
   "outputs": [
    {
     "name": "stdout",
     "output_type": "stream",
     "text": [
      "(232074, 3)\n"
     ]
    },
    {
     "data": {
      "text/html": [
       "<div>\n",
       "<style scoped>\n",
       "    .dataframe tbody tr th:only-of-type {\n",
       "        vertical-align: middle;\n",
       "    }\n",
       "\n",
       "    .dataframe tbody tr th {\n",
       "        vertical-align: top;\n",
       "    }\n",
       "\n",
       "    .dataframe thead th {\n",
       "        text-align: right;\n",
       "    }\n",
       "</style>\n",
       "<table border=\"1\" class=\"dataframe\">\n",
       "  <thead>\n",
       "    <tr style=\"text-align: right;\">\n",
       "      <th></th>\n",
       "      <th>Unnamed: 0</th>\n",
       "      <th>text</th>\n",
       "      <th>class</th>\n",
       "    </tr>\n",
       "  </thead>\n",
       "  <tbody>\n",
       "    <tr>\n",
       "      <th>0</th>\n",
       "      <td>2</td>\n",
       "      <td>Ex Wife Threatening SuicideRecently I left my ...</td>\n",
       "      <td>suicide</td>\n",
       "    </tr>\n",
       "    <tr>\n",
       "      <th>1</th>\n",
       "      <td>3</td>\n",
       "      <td>Am I weird I don't get affected by compliments...</td>\n",
       "      <td>non-suicide</td>\n",
       "    </tr>\n",
       "    <tr>\n",
       "      <th>2</th>\n",
       "      <td>4</td>\n",
       "      <td>Finally 2020 is almost over... So I can never ...</td>\n",
       "      <td>non-suicide</td>\n",
       "    </tr>\n",
       "    <tr>\n",
       "      <th>3</th>\n",
       "      <td>8</td>\n",
       "      <td>i need helpjust help me im crying so hard</td>\n",
       "      <td>suicide</td>\n",
       "    </tr>\n",
       "    <tr>\n",
       "      <th>4</th>\n",
       "      <td>9</td>\n",
       "      <td>I’m so lostHello, my name is Adam (16) and I’v...</td>\n",
       "      <td>suicide</td>\n",
       "    </tr>\n",
       "  </tbody>\n",
       "</table>\n",
       "</div>"
      ],
      "text/plain": [
       "   Unnamed: 0                                               text        class\n",
       "0           2  Ex Wife Threatening SuicideRecently I left my ...      suicide\n",
       "1           3  Am I weird I don't get affected by compliments...  non-suicide\n",
       "2           4  Finally 2020 is almost over... So I can never ...  non-suicide\n",
       "3           8          i need helpjust help me im crying so hard      suicide\n",
       "4           9  I’m so lostHello, my name is Adam (16) and I’v...      suicide"
      ]
     },
     "execution_count": 8,
     "metadata": {},
     "output_type": "execute_result"
    }
   ],
   "source": [
    "print(suicide.shape)\n",
    "suicide.head()"
   ]
  },
  {
   "cell_type": "code",
   "execution_count": 9,
   "id": "ad93d694-1e10-43cc-9722-a55f992b690d",
   "metadata": {},
   "outputs": [],
   "source": [
    "#using a random sample of 20,000 entries for model training\n",
    "suicide = suicide.sample(20000, random_state = 42)"
   ]
  },
  {
   "cell_type": "code",
   "execution_count": 10,
   "id": "1d900f36-ee2b-4c3e-8e5e-e3a01b6002b6",
   "metadata": {},
   "outputs": [
    {
     "name": "stdout",
     "output_type": "stream",
     "text": [
      "Class: suicide\n"
     ]
    },
    {
     "data": {
      "text/plain": [
       "\"I Don't know?7? Months self harm free and the urge just gets stronger and stronger every day. The past few days I've just been shit... \\nMy family stresses me out especially my nephew (he's 12) My mum has full custody of him and he's told me to go kill myself numerous times.. I wish it was that easy.\\nMy partners family stresses me out especially over the past few days. \\nStress is my trigger \\nI just want to scream and cry. \\nI live near the woods so I could go out and scream till I can't possibly scream anymore but the cops will probably get called...\\nMy OH knows about my depression but he doesn't really know how I'm feeling at the moment. He would want to come over and make sure I'm OK but he's fucking annoying. He annoys me all the time by doing small stupid things. \\nI don't even know where I'm going with the post? \\n\\n\""
      ]
     },
     "execution_count": 10,
     "metadata": {},
     "output_type": "execute_result"
    }
   ],
   "source": [
    "#sample suicidal post\n",
    "print('Class:', suicide['class'].iloc[0])\n",
    "suicide['text'].iloc[0]"
   ]
  },
  {
   "cell_type": "code",
   "execution_count": 11,
   "id": "3982c227-e0ed-4f57-979b-38466af058fa",
   "metadata": {},
   "outputs": [
    {
     "name": "stdout",
     "output_type": "stream",
     "text": [
      "Class: non-suicide\n"
     ]
    },
    {
     "data": {
      "text/plain": [
       "'I HAVE TO START BECOMING RICH I HAVE TO START MY COMPANY SO WHEN I BECOME 16 I CAN AFFORD A BIG VAN AND GO ON TRIPS WITH MY FRIENDS BUT I HAVE NO TIME LEFT I HAVE TO START WORKING'"
      ]
     },
     "execution_count": 11,
     "metadata": {},
     "output_type": "execute_result"
    }
   ],
   "source": [
    "#sample non-suicidal post\n",
    "print('Class:', suicide['class'].iloc[1])\n",
    "suicide['text'].iloc[1]"
   ]
  },
  {
   "cell_type": "markdown",
   "id": "cf4fc1f6-3d40-4304-8b2c-5a446d1bfa3d",
   "metadata": {},
   "source": [
    "#### Exploratory Data Analysis"
   ]
  },
  {
   "cell_type": "code",
   "execution_count": 12,
   "id": "8ca0aa4c-6d0e-4d04-80b0-59759c4cd86b",
   "metadata": {},
   "outputs": [
    {
     "name": "stdout",
     "output_type": "stream",
     "text": [
      "<class 'pandas.core.frame.DataFrame'>\n",
      "Int64Index: 20000 entries, 74414 to 89712\n",
      "Data columns (total 3 columns):\n",
      " #   Column      Non-Null Count  Dtype \n",
      "---  ------      --------------  ----- \n",
      " 0   Unnamed: 0  20000 non-null  int64 \n",
      " 1   text        20000 non-null  object\n",
      " 2   class       20000 non-null  object\n",
      "dtypes: int64(1), object(2)\n",
      "memory usage: 625.0+ KB\n"
     ]
    }
   ],
   "source": [
    "suicide.info()"
   ]
  },
  {
   "cell_type": "code",
   "execution_count": 13,
   "id": "ccb6056c-7c3e-43d8-8b23-89e7be0d86cf",
   "metadata": {},
   "outputs": [
    {
     "data": {
      "text/plain": [
       "Unnamed: 0    0\n",
       "text          0\n",
       "class         0\n",
       "dtype: int64"
      ]
     },
     "execution_count": 13,
     "metadata": {},
     "output_type": "execute_result"
    }
   ],
   "source": [
    "#no null values\n",
    "suicide.isna().sum()"
   ]
  },
  {
   "cell_type": "code",
   "execution_count": 14,
   "id": "9ce65343-8c0f-47ed-b6e6-d7a61b77abbb",
   "metadata": {},
   "outputs": [
    {
     "name": "stdout",
     "output_type": "stream",
     "text": [
      "Mean character count: 680.14645\n",
      "Min character count: 7\n",
      "Max character count: 40106\n"
     ]
    }
   ],
   "source": [
    "#summary statistics\n",
    "suicide['char_count'] = suicide.text.apply(len)\n",
    "print('Mean character count:', suicide['char_count'].mean())\n",
    "print('Min character count:', suicide['char_count'].min())\n",
    "print('Max character count:', suicide['char_count'].max())"
   ]
  },
  {
   "cell_type": "code",
   "execution_count": 15,
   "id": "03fd75b8-8d9d-4a63-861c-eb5652475115",
   "metadata": {},
   "outputs": [
    {
     "data": {
      "text/plain": [
       "(0.0, 10000.0)"
      ]
     },
     "execution_count": 15,
     "metadata": {},
     "output_type": "execute_result"
    },
    {
     "data": {
      "image/png": "[encoded data removed]",
      "text/plain": [
       "<Figure size 432x288 with 1 Axes>"
      ]
     },
     "metadata": {},
     "output_type": "display_data"
    }
   ],
   "source": [
    "#character count visualization\n",
    "fig, ax = plt.subplots()\n",
    "sns.histplot(suicide['char_count'], ax = ax).set_title('Post Character Count')\n",
    "ax.set_xlim(0, 10000)"
   ]
  },
  {
   "cell_type": "code",
   "execution_count": 16,
   "id": "86794928-0395-479f-b55a-f388e2d987f1",
   "metadata": {},
   "outputs": [],
   "source": [
    "#most frequent words in both classes \n",
    "suicide_words = list(suicide[suicide['class'] == 'suicide'].text.values)\n",
    "non_suicide_words = list(suicide[suicide['class'] == 'non-suicide'].text.values)"
   ]
  },
  {
   "cell_type": "code",
   "execution_count": 17,
   "id": "4d1090b8-f7d1-4d61-b45b-06f572ba077d",
   "metadata": {},
   "outputs": [
    {
     "data": {
      "image/png": "[encoded data removed]",
      "text/plain": [
       "<Figure size 432x288 with 1 Axes>"
      ]
     },
     "metadata": {},
     "output_type": "display_data"
    }
   ],
   "source": [
    "#suicide word cloud \n",
    "s_wordcloud = WordCloud(stopwords = STOPWORDS).generate(str(suicide_words))\n",
    "plt.imshow(s_wordcloud)\n",
    "plt.axis('off')\n",
    "plt.show()"
   ]
  },
  {
   "cell_type": "code",
   "execution_count": 18,
   "id": "0b4b5e81-2d33-4588-854a-29c701814238",
   "metadata": {},
   "outputs": [
    {
     "data": {
      "image/png": "[encoded data removed]",
      "text/plain": [
       "<Figure size 432x288 with 1 Axes>"
      ]
     },
     "metadata": {},
     "output_type": "display_data"
    }
   ],
   "source": [
    "#non-suicide word cloud \n",
    "x_wordcloud = WordCloud(stopwords = STOPWORDS).generate(str(non_suicide_words))\n",
    "plt.imshow(x_wordcloud)\n",
    "plt.axis('off')\n",
    "plt.show()"
   ]
  },
  {
   "cell_type": "code",
   "execution_count": 19,
   "id": "d195dc09-213a-4c6a-bd92-e2a65a5fd206",
   "metadata": {},
   "outputs": [
    {
     "data": {
      "image/png": "[encoded data removed]",
      "text/plain": [
       "<Figure size 360x360 with 1 Axes>"
      ]
     },
     "metadata": {},
     "output_type": "display_data"
    }
   ],
   "source": [
    "#checking class distribution \n",
    "#the data is balanced: Comparable counts of suicide vs non-suicide posts\n",
    "\n",
    "fig = sns.catplot(x = 'class', kind = 'count', data = suicide)\n",
    "fig.fig.suptitle(\"Class Counts\")\n",
    "for fig in fig.axes.flat:\n",
    "    fig.bar_label(fig.containers[0])"
   ]
  },
  {
   "cell_type": "markdown",
   "id": "07211448-940f-4bd3-bfa5-92e7448f3872",
   "metadata": {},
   "source": [
    "#### Data Setup"
   ]
  },
  {
   "cell_type": "code",
   "execution_count": 20,
   "id": "bf966570-1685-48dd-be8b-980e69a16948",
   "metadata": {},
   "outputs": [
    {
     "data": {
      "text/html": [
       "<div>\n",
       "<style scoped>\n",
       "    .dataframe tbody tr th:only-of-type {\n",
       "        vertical-align: middle;\n",
       "    }\n",
       "\n",
       "    .dataframe tbody tr th {\n",
       "        vertical-align: top;\n",
       "    }\n",
       "\n",
       "    .dataframe thead th {\n",
       "        text-align: right;\n",
       "    }\n",
       "</style>\n",
       "<table border=\"1\" class=\"dataframe\">\n",
       "  <thead>\n",
       "    <tr style=\"text-align: right;\">\n",
       "      <th></th>\n",
       "      <th>text</th>\n",
       "      <th>suicide</th>\n",
       "      <th>char_count</th>\n",
       "    </tr>\n",
       "  </thead>\n",
       "  <tbody>\n",
       "    <tr>\n",
       "      <th>74414</th>\n",
       "      <td>I Don't know?7? Months self harm free and the ...</td>\n",
       "      <td>1</td>\n",
       "      <td>828</td>\n",
       "    </tr>\n",
       "    <tr>\n",
       "      <th>149516</th>\n",
       "      <td>I HAVE TO START BECOMING RICH I HAVE TO START ...</td>\n",
       "      <td>0</td>\n",
       "      <td>179</td>\n",
       "    </tr>\n",
       "    <tr>\n",
       "      <th>12484</th>\n",
       "      <td>A poem (haiku) for u/Me-Game-Dev hi, hello hel...</td>\n",
       "      <td>0</td>\n",
       "      <td>96</td>\n",
       "    </tr>\n",
       "    <tr>\n",
       "      <th>14043</th>\n",
       "      <td>I've honestly got no idea what to do anymore.I...</td>\n",
       "      <td>1</td>\n",
       "      <td>1089</td>\n",
       "    </tr>\n",
       "    <tr>\n",
       "      <th>30673</th>\n",
       "      <td>Do you ever just cry? Like you just think abou...</td>\n",
       "      <td>0</td>\n",
       "      <td>268</td>\n",
       "    </tr>\n",
       "  </tbody>\n",
       "</table>\n",
       "</div>"
      ],
      "text/plain": [
       "                                                     text  suicide  char_count\n",
       "74414   I Don't know?7? Months self harm free and the ...        1         828\n",
       "149516  I HAVE TO START BECOMING RICH I HAVE TO START ...        0         179\n",
       "12484   A poem (haiku) for u/Me-Game-Dev hi, hello hel...        0          96\n",
       "14043   I've honestly got no idea what to do anymore.I...        1        1089\n",
       "30673   Do you ever just cry? Like you just think abou...        0         268"
      ]
     },
     "execution_count": 20,
     "metadata": {},
     "output_type": "execute_result"
    }
   ],
   "source": [
    "#only keeping the text and class columns\n",
    "suicide.drop(\"Unnamed: 0\", axis = 1, inplace = True)\n",
    "\n",
    "#renaming \"class\" column as \"suicide\"\n",
    "suicide.rename({\"class\" : \"suicide\"}, axis = 1, inplace = True)\n",
    "\n",
    "#numerically representing the contents of \"suicide\" column\n",
    "suicide.replace({\"suicide\" : 1, \"non-suicide\" : 0}, inplace = True)\n",
    "suicide.head()"
   ]
  },
  {
   "cell_type": "code",
   "execution_count": 21,
   "id": "d4854fa0-9140-4153-8546-ea4faf562a2a",
   "metadata": {},
   "outputs": [],
   "source": [
    "#train test split\n",
    "X = suicide['text']\n",
    "y = suicide['suicide']\n",
    "X_train, X_test, y_train, y_test = train_test_split(X, y, test_size = 0.3, random_state = 42)"
   ]
  },
  {
   "cell_type": "markdown",
   "id": "3a750bcb-a083-4e29-864c-4e0fe045896b",
   "metadata": {},
   "source": [
    "#### Text Preprocessing"
   ]
  },
  {
   "cell_type": "code",
   "execution_count": 51,
   "id": "0d54b2b5-b822-4faa-865b-624e07d922d8",
   "metadata": {},
   "outputs": [],
   "source": [
    "#tokenization, stop word removal, lower casing \n",
    "def preprocess_text(text):\n",
    "    tokenizer = TweetTokenizer(preserve_case = False)\n",
    "    swords = stopwords.words('english')\n",
    "    \n",
    "    proprocessed_text = []\n",
    "    for entry in text:\n",
    "        tokens = tokenizer.tokenize(entry)\n",
    "        proprocessed_text.append([word for word in tokens if word not in swords])\n",
    "    return proprocessed_text"
   ]
  },
  {
   "cell_type": "code",
   "execution_count": 71,
   "id": "e8059315-f676-47a6-8311-74327ecaa425",
   "metadata": {},
   "outputs": [],
   "source": [
    "pX_train = preprocess_text(X_train)"
   ]
  },
  {
   "cell_type": "code",
   "execution_count": 104,
   "id": "b5cc83c1-1b50-4be1-bf8e-788ad83b66c9",
   "metadata": {},
   "outputs": [],
   "source": [
    "pX_test = preprocess_text(X_test)"
   ]
  },
  {
   "cell_type": "code",
   "execution_count": 106,
   "id": "b3dfa624-3637-4119-9732-ad93ca718fa3",
   "metadata": {},
   "outputs": [
    {
     "data": {
      "text/plain": [
       "['first',\n",
       " 'gun',\n",
       " 'last',\n",
       " 'gunbuying',\n",
       " 'first',\n",
       " 'gun',\n",
       " 'tomorrow',\n",
       " '.',\n",
       " 'problems',\n",
       " '.',\n",
       " 'hopefully',\n",
       " 'get',\n",
       " 'courage',\n",
       " 'use',\n",
       " 'next',\n",
       " 'couple',\n",
       " 'days',\n",
       " '.',\n",
       " 'overdoses',\n",
       " '.',\n",
       " 'medical',\n",
       " 'bills',\n",
       " '.']"
      ]
     },
     "execution_count": 106,
     "metadata": {},
     "output_type": "execute_result"
    }
   ],
   "source": [
    "#checking output \n",
    "pX_train[0]"
   ]
  },
  {
   "cell_type": "code",
   "execution_count": 98,
   "id": "00b4447e-17ec-4492-a905-26f773ad4a3e",
   "metadata": {},
   "outputs": [],
   "source": [
    "#converting back to a list of strings \n",
    "X_train = [' '.join(x) for x in pX_train]"
   ]
  },
  {
   "cell_type": "code",
   "execution_count": 99,
   "id": "5f77ff4f-3895-48d5-9a77-4ccdf98f8e4f",
   "metadata": {},
   "outputs": [
    {
     "data": {
      "text/plain": [
       "'first gun last gunbuying first gun tomorrow . problems . hopefully get courage use next couple days . overdoses . medical bills .'"
      ]
     },
     "execution_count": 99,
     "metadata": {},
     "output_type": "execute_result"
    }
   ],
   "source": [
    "#checking output\n",
    "X_train[0]"
   ]
  },
  {
   "cell_type": "markdown",
   "id": "45211132-54d2-469e-b7f0-139d33f29381",
   "metadata": {},
   "source": [
    "#### Feature Engineering \n",
    "TF-IDF on lemmatized words"
   ]
  },
  {
   "cell_type": "code",
   "execution_count": 100,
   "id": "d9645f60-55d1-4926-84ac-fd070767db51",
   "metadata": {},
   "outputs": [],
   "source": [
    "lem = WordNetLemmatizer()\n",
    "analyzer = TfidfVectorizer(lowercase = False).build_analyzer()\n",
    "\n",
    "def lemmatizer(text):\n",
    "    return (lem.lemmatize(w) for w in analyzer(text))"
   ]
  },
  {
   "cell_type": "code",
   "execution_count": 101,
   "id": "e73e5a31-071f-4fc9-87d7-f9e3fc0d074f",
   "metadata": {},
   "outputs": [],
   "source": [
    "#grid search dict\n",
    "\n",
    "tf_params = {'tfidf__max_features': [1000, 2000, 3000],\n",
    "            'tfidf__analyzer' : ['word', lemmatizer]}"
   ]
  },
  {
   "cell_type": "markdown",
   "id": "dffd8f91-6ba0-44db-8ea3-abc2c9c0b74f",
   "metadata": {
    "tags": []
   },
   "source": [
    "#### Model Comparison\n",
    "We will be evaluating the models with the accuracy score metric because we have a balanced dataset. Accuracy measures the proportion of correctly predicted observations out of total observations and is calculated as (True Positive count + True Negative count) / (Total count), or\n",
    "\n",
    "$$\n",
    "\\frac{TP + TN}{TP + TN + FP + FN}\n",
    "$$\n",
    "\n",
    "\n",
    "Holdout cross validation is implemented; models will be trained on the training set and validated with the test set.\n",
    "\n"
   ]
  },
  {
   "cell_type": "markdown",
   "id": "5acebc02-a62e-4c89-ab14-15ccb2b42150",
   "metadata": {},
   "source": [
    "**Naïve Bayes** "
   ]
  },
  {
   "cell_type": "code",
   "execution_count": 102,
   "id": "0834688c-7392-4264-8f94-cd5593159083",
   "metadata": {},
   "outputs": [],
   "source": [
    "#nb + tfidf \n",
    "nb_tf = Pipeline([\n",
    "    ('tfidf', TfidfVectorizer(lowercase = False)),\n",
    "    ('bayes', MultinomialNB())\n",
    "])"
   ]
  },
  {
   "cell_type": "code",
   "execution_count": 108,
   "id": "c4b47204-3fde-4405-81b8-ea43992a49f1",
   "metadata": {},
   "outputs": [],
   "source": [
    "#gridsearch max features \n",
    "nb_tf_grid = RandomizedSearchCV(estimator = nb_tf,\n",
    "                   param_distributions = tf_params)\n",
    "\n",
    "#fit\n",
    "start = time.time()\n",
    "nb_tf_grid.fit(X_train, y_train)\n",
    "stop = time.time()\n",
    "\n",
    "#stats\n",
    "nb_tf_time = stop - start\n",
    "nb_tf_acc = nb_tf_grid.score(X_test, y_test)\n",
    "nb_tf_params = nb_tf_grid.best_params_"
   ]
  },
  {
   "cell_type": "markdown",
   "id": "3ef64354-93f4-42ce-b506-3e2fba5deb19",
   "metadata": {},
   "source": [
    "**Logistic Regression**"
   ]
  },
  {
   "cell_type": "code",
   "execution_count": 111,
   "id": "64665911-1be3-467e-baf7-bcc0525c7486",
   "metadata": {},
   "outputs": [],
   "source": [
    "#logreg + tfidf \n",
    "lgr_tf = Pipeline([\n",
    "    ('tfidf', TfidfVectorizer()),\n",
    "    ('lgr', LogisticRegression())\n",
    "])\n",
    "\n",
    "#gridsearch max features \n",
    "lgr_tf_grid = RandomizedSearchCV(estimator = lgr_tf,\n",
    "                   param_distributions = tf_params)\n",
    "\n",
    "#fit\n",
    "start = time.time()\n",
    "lgr_tf_grid.fit(X_train, y_train)\n",
    "stop = time.time()\n",
    "\n",
    "#stats\n",
    "lgr_tf_time = stop - start\n",
    "lgr_tf_acc = lgr_tf_grid.score(X_test, y_test)\n",
    "lgr_tf_params = lgr_tf_grid.best_params_"
   ]
  },
  {
   "cell_type": "code",
   "execution_count": 112,
   "id": "fb5dbede-0c2b-47ce-b2e9-d019a38b08e5",
   "metadata": {},
   "outputs": [
    {
     "data": {
      "text/plain": [
       "0.8963333333333333"
      ]
     },
     "execution_count": 112,
     "metadata": {},
     "output_type": "execute_result"
    }
   ],
   "source": [
    "lgr_tf_acc"
   ]
  },
  {
   "cell_type": "markdown",
   "id": "d8745637-5db2-498d-8782-73d99c2120f8",
   "metadata": {},
   "source": [
    "**Decision Tree**"
   ]
  },
  {
   "cell_type": "code",
   "execution_count": 113,
   "id": "d8b3b5a9-9f06-4e61-bd9c-d2e3a7133cf3",
   "metadata": {},
   "outputs": [],
   "source": [
    "#dtree + tfidf \n",
    "tree_tf = Pipeline([\n",
    "    ('tfidf', TfidfVectorizer()),\n",
    "    ('dtree', DecisionTreeClassifier())\n",
    "])\n",
    "\n",
    "#gridsearch max features \n",
    "tree_tf_grid = RandomizedSearchCV(estimator = tree_tf,\n",
    "                   param_distributions = tf_params)\n",
    "\n",
    "#fit\n",
    "start = time.time()\n",
    "tree_tf_grid.fit(X_train, y_train)\n",
    "stop = time.time()\n",
    "\n",
    "#stats\n",
    "tree_tf_time = stop - start\n",
    "tree_tf_acc = tree_tf_grid.score(X_test, y_test)\n",
    "tree_tf_params = tree_tf_grid.best_params_"
   ]
  },
  {
   "cell_type": "code",
   "execution_count": 116,
   "id": "6e9949aa-402b-43b5-9bbc-269d83ad05b5",
   "metadata": {},
   "outputs": [
    {
     "data": {
      "text/plain": [
       "0.774"
      ]
     },
     "execution_count": 116,
     "metadata": {},
     "output_type": "execute_result"
    }
   ],
   "source": [
    "tree_tf_acc"
   ]
  },
  {
   "cell_type": "code",
   "execution_count": 119,
   "id": "574984bf-b6ab-487b-8412-2c92f1bc9463",
   "metadata": {},
   "outputs": [],
   "source": [
    "#svc\n",
    "svc_tf = Pipeline([\n",
    "    ('tfidf', TfidfVectorizer()),\n",
    "    ('svc', SVC())\n",
    "])\n",
    "\n",
    "#gridsearch max features \n",
    "svc_tf_grid = RandomizedSearchCV(estimator = svc_tf,\n",
    "                   param_distributions = tf_params)\n",
    "\n",
    "#fit\n",
    "start = time.time()\n",
    "svc_tf_grid.fit(X_train, y_train)\n",
    "stop = time.time()\n",
    "\n",
    "#stats\n",
    "svc_tf_time = stop - start\n",
    "svc_tf_acc = svc_tf_grid.score(X_test, y_test)\n",
    "svc_tf_params = svc_tf_grid.best_params_"
   ]
  },
  {
   "cell_type": "markdown",
   "id": "471875b2-d14f-4cea-a395-a3c1e8a3f34a",
   "metadata": {},
   "source": [
    "## HERE"
   ]
  },
  {
   "cell_type": "code",
   "execution_count": 120,
   "id": "622d90be-1aad-46c5-beb0-6cc1ae81a2f6",
   "metadata": {},
   "outputs": [
    {
     "data": {
      "text/plain": [
       "0.8856666666666667"
      ]
     },
     "execution_count": 120,
     "metadata": {},
     "output_type": "execute_result"
    }
   ],
   "source": [
    "svc_tf_acc"
   ]
  },
  {
   "cell_type": "code",
   "execution_count": 121,
   "id": "b0aa1c43-5511-4887-8f21-78f69469827f",
   "metadata": {},
   "outputs": [],
   "source": [
    "#knn\n",
    "knn_tf = Pipeline([\n",
    "    ('tfidf', TfidfVectorizer()),\n",
    "    ('knn', KNeighborsClassifier())\n",
    "])\n",
    "\n",
    "#gridsearch max features \n",
    "knn_tf_grid = RandomizedSearchCV(estimator = knn_tf,\n",
    "                   param_distributions = tf_params)\n",
    "\n",
    "#fit\n",
    "start = time.time()\n",
    "knn_tf_grid.fit(X_train, y_train)\n",
    "stop = time.time()\n",
    "\n",
    "#stats\n",
    "knn_tf_time = stop - start\n",
    "knn_tf_acc = knn_tf_grid.score(X_test, y_test)\n",
    "knn_tf_params = knn_tf_grid.best_params_"
   ]
  },
  {
   "cell_type": "code",
   "execution_count": 122,
   "id": "72f47963-90c6-4112-99d1-f88e61b14a4f",
   "metadata": {},
   "outputs": [
    {
     "data": {
      "text/plain": [
       "0.512"
      ]
     },
     "execution_count": 122,
     "metadata": {},
     "output_type": "execute_result"
    }
   ],
   "source": [
    "knn_tf_acc"
   ]
  },
  {
   "cell_type": "markdown",
   "id": "bb718c3f-5e40-4448-bf30-c36c10c77ecd",
   "metadata": {},
   "source": [
    "**Results**\n",
    "\n",
    "Logistic Regression models have the highest accuracy score, followed by the Naive Bayes and Decision Tree models. \n",
    "\n",
    "The model with the highest accuracy score is **Logistic Regression + TF-IDF** with a score of 0.918."
   ]
  },
  {
   "cell_type": "code",
   "execution_count": 115,
   "id": "4654e2db-5b95-4ff3-9b9f-3b65965fac18",
   "metadata": {},
   "outputs": [
    {
     "data": {
      "text/plain": [
       "\"\\nstem_df = pd.DataFrame({'model': ['Logistic + CountVectorizer', 'Logistic + Tfidf', 'Decision Tree + CountVectorizer', 'Decision Tree + Tfidf', 'Bayes + CountVectorizer', 'Bayes + Tfidf'], \\n              'speed' : [lgr_cv_time, lgr_tf_time, tree_cv_time, tree_tf_time, nb_cv_time, nb_tf_time],\\n              'best_params': [lgr_cv_params, lgr_tf_params, tree_cv_params, tree_tf_params, nb_cv_params, nb_tf_params],\\n              'best_score': [lgr_cv_acc, lgr_tf_acc, tree_cv_acc, tree_tf_acc, nb_cv_acc, nb_tf_acc]}).set_index('model')\\n\""
      ]
     },
     "execution_count": 115,
     "metadata": {},
     "output_type": "execute_result"
    }
   ],
   "source": [
    "#build df \n",
    "'''\n",
    "stem_df = pd.DataFrame({'model': ['Logistic + CountVectorizer', 'Logistic + Tfidf', 'Decision Tree + CountVectorizer', 'Decision Tree + Tfidf', 'Bayes + CountVectorizer', 'Bayes + Tfidf'], \n",
    "              'speed' : [lgr_cv_time, lgr_tf_time, tree_cv_time, tree_tf_time, nb_cv_time, nb_tf_time],\n",
    "              'best_params': [lgr_cv_params, lgr_tf_params, tree_cv_params, tree_tf_params, nb_cv_params, nb_tf_params],\n",
    "              'best_score': [lgr_cv_acc, lgr_tf_acc, tree_cv_acc, tree_tf_acc, nb_cv_acc, nb_tf_acc]}).set_index('model')\n",
    "'''"
   ]
  },
  {
   "cell_type": "code",
   "execution_count": 117,
   "id": "c93bad43-bdeb-49d3-8a02-53581caedcb3",
   "metadata": {},
   "outputs": [],
   "source": [
    "#build df \n",
    "lem_df = pd.DataFrame({'model': ['Logistic', 'Decision Tree', 'Bayes'], \n",
    "              'speed' : [lgr_tf_time, tree_tf_time, nb_tf_time],\n",
    "              'best_params': [lgr_tf_params, tree_tf_params, nb_tf_params],\n",
    "              'best_score': [lgr_tf_acc, tree_tf_acc, nb_tf_acc]}).set_index('model')"
   ]
  },
  {
   "cell_type": "code",
   "execution_count": 118,
   "id": "73b58ddc-91c5-4268-b492-4054685cb05f",
   "metadata": {},
   "outputs": [
    {
     "data": {
      "text/html": [
       "<div>\n",
       "<style scoped>\n",
       "    .dataframe tbody tr th:only-of-type {\n",
       "        vertical-align: middle;\n",
       "    }\n",
       "\n",
       "    .dataframe tbody tr th {\n",
       "        vertical-align: top;\n",
       "    }\n",
       "\n",
       "    .dataframe thead th {\n",
       "        text-align: right;\n",
       "    }\n",
       "</style>\n",
       "<table border=\"1\" class=\"dataframe\">\n",
       "  <thead>\n",
       "    <tr style=\"text-align: right;\">\n",
       "      <th></th>\n",
       "      <th>speed</th>\n",
       "      <th>best_params</th>\n",
       "      <th>best_score</th>\n",
       "    </tr>\n",
       "    <tr>\n",
       "      <th>model</th>\n",
       "      <th></th>\n",
       "      <th></th>\n",
       "      <th></th>\n",
       "    </tr>\n",
       "  </thead>\n",
       "  <tbody>\n",
       "    <tr>\n",
       "      <th>Logistic</th>\n",
       "      <td>66.071181</td>\n",
       "      <td>{'tfidf__max_features': 3000, 'tfidf__analyzer...</td>\n",
       "      <td>0.896333</td>\n",
       "    </tr>\n",
       "    <tr>\n",
       "      <th>Decision Tree</th>\n",
       "      <td>143.554728</td>\n",
       "      <td>{'tfidf__max_features': 3000, 'tfidf__analyzer...</td>\n",
       "      <td>0.774000</td>\n",
       "    </tr>\n",
       "    <tr>\n",
       "      <th>Bayes</th>\n",
       "      <td>62.889879</td>\n",
       "      <td>{'tfidf__max_features': 3000, 'tfidf__analyzer...</td>\n",
       "      <td>0.812167</td>\n",
       "    </tr>\n",
       "  </tbody>\n",
       "</table>\n",
       "</div>"
      ],
      "text/plain": [
       "                    speed                                        best_params  \\\n",
       "model                                                                          \n",
       "Logistic        66.071181  {'tfidf__max_features': 3000, 'tfidf__analyzer...   \n",
       "Decision Tree  143.554728  {'tfidf__max_features': 3000, 'tfidf__analyzer...   \n",
       "Bayes           62.889879  {'tfidf__max_features': 3000, 'tfidf__analyzer...   \n",
       "\n",
       "               best_score  \n",
       "model                      \n",
       "Logistic         0.896333  \n",
       "Decision Tree    0.774000  \n",
       "Bayes            0.812167  "
      ]
     },
     "execution_count": 118,
     "metadata": {},
     "output_type": "execute_result"
    }
   ],
   "source": [
    "lem_df"
   ]
  },
  {
   "cell_type": "code",
   "execution_count": 353,
   "id": "e6274b36-a515-45b5-bc51-1f53bd56739c",
   "metadata": {},
   "outputs": [
    {
     "data": {
      "text/html": [
       "<div>\n",
       "<style scoped>\n",
       "    .dataframe tbody tr th:only-of-type {\n",
       "        vertical-align: middle;\n",
       "    }\n",
       "\n",
       "    .dataframe tbody tr th {\n",
       "        vertical-align: top;\n",
       "    }\n",
       "\n",
       "    .dataframe thead th {\n",
       "        text-align: right;\n",
       "    }\n",
       "</style>\n",
       "<table border=\"1\" class=\"dataframe\">\n",
       "  <thead>\n",
       "    <tr style=\"text-align: right;\">\n",
       "      <th></th>\n",
       "      <th>speed</th>\n",
       "      <th>best_params</th>\n",
       "      <th>best_score</th>\n",
       "    </tr>\n",
       "    <tr>\n",
       "      <th>model</th>\n",
       "      <th></th>\n",
       "      <th></th>\n",
       "      <th></th>\n",
       "    </tr>\n",
       "  </thead>\n",
       "  <tbody>\n",
       "    <tr>\n",
       "      <th>Logistic + CountVectorizer</th>\n",
       "      <td>1260.637436</td>\n",
       "      <td>{'cv__stop_words': None, 'cv__max_features': 2...</td>\n",
       "      <td>0.909833</td>\n",
       "    </tr>\n",
       "    <tr>\n",
       "      <th>Logistic + Tfidf</th>\n",
       "      <td>2640.974808</td>\n",
       "      <td>{'tfidf__stop_words': None, 'tfidf__max_featur...</td>\n",
       "      <td>0.918333</td>\n",
       "    </tr>\n",
       "    <tr>\n",
       "      <th>Decision Tree + CountVectorizer</th>\n",
       "      <td>3147.673905</td>\n",
       "      <td>{'cv__stop_words': 'english', 'cv__max_feature...</td>\n",
       "      <td>0.817333</td>\n",
       "    </tr>\n",
       "    <tr>\n",
       "      <th>Decision Tree + Tfidf</th>\n",
       "      <td>2155.145674</td>\n",
       "      <td>{'tfidf__stop_words': 'english', 'tfidf__max_f...</td>\n",
       "      <td>0.811833</td>\n",
       "    </tr>\n",
       "    <tr>\n",
       "      <th>Bayes + CountVectorizer</th>\n",
       "      <td>929.515114</td>\n",
       "      <td>{'cv__stop_words': 'english', 'cv__max_feature...</td>\n",
       "      <td>0.888500</td>\n",
       "    </tr>\n",
       "    <tr>\n",
       "      <th>Bayes + Tfidf</th>\n",
       "      <td>2868.851403</td>\n",
       "      <td>{'tfidf__stop_words': None, 'tfidf__max_featur...</td>\n",
       "      <td>0.891333</td>\n",
       "    </tr>\n",
       "  </tbody>\n",
       "</table>\n",
       "</div>"
      ],
      "text/plain": [
       "                                       speed  \\\n",
       "model                                          \n",
       "Logistic + CountVectorizer       1260.637436   \n",
       "Logistic + Tfidf                 2640.974808   \n",
       "Decision Tree + CountVectorizer  3147.673905   \n",
       "Decision Tree + Tfidf            2155.145674   \n",
       "Bayes + CountVectorizer           929.515114   \n",
       "Bayes + Tfidf                    2868.851403   \n",
       "\n",
       "                                                                       best_params  \\\n",
       "model                                                                                \n",
       "Logistic + CountVectorizer       {'cv__stop_words': None, 'cv__max_features': 2...   \n",
       "Logistic + Tfidf                 {'tfidf__stop_words': None, 'tfidf__max_featur...   \n",
       "Decision Tree + CountVectorizer  {'cv__stop_words': 'english', 'cv__max_feature...   \n",
       "Decision Tree + Tfidf            {'tfidf__stop_words': 'english', 'tfidf__max_f...   \n",
       "Bayes + CountVectorizer          {'cv__stop_words': 'english', 'cv__max_feature...   \n",
       "Bayes + Tfidf                    {'tfidf__stop_words': None, 'tfidf__max_featur...   \n",
       "\n",
       "                                 best_score  \n",
       "model                                        \n",
       "Logistic + CountVectorizer         0.909833  \n",
       "Logistic + Tfidf                   0.918333  \n",
       "Decision Tree + CountVectorizer    0.817333  \n",
       "Decision Tree + Tfidf              0.811833  \n",
       "Bayes + CountVectorizer            0.888500  \n",
       "Bayes + Tfidf                      0.891333  "
      ]
     },
     "execution_count": 353,
     "metadata": {},
     "output_type": "execute_result"
    }
   ],
   "source": [
    "#stem_df"
   ]
  },
  {
   "cell_type": "markdown",
   "id": "b53b4765-d4ba-4fdd-8986-e60f2979757a",
   "metadata": {},
   "source": [
    "**Best model parameters**\n",
    "\n",
    "For every model, the optimal number of max features is 2000; it is likely that a higher number of max features would result in better accuracy. Additionally, there is a clear split on whether stop word removal is necessary. \n",
    "\n",
    "- For the Logistic Regression models \n",
    "    - No stop word removal \n",
    "    - Max features = 2000\n",
    "- For Decision Tree models\n",
    "    - Stop word removal\n",
    "    - Max features = 2000\n",
    "- For Naive Bayes models\n",
    "    - Bag-of-Words + stop word removal\n",
    "    - TF-IDF + no stop word removal\n",
    "    - Max features = 2000\n",
    "    "
   ]
  },
  {
   "cell_type": "code",
   "execution_count": 358,
   "id": "9380f12d-b46d-479b-a839-e90e60997877",
   "metadata": {},
   "outputs": [
    {
     "name": "stdout",
     "output_type": "stream",
     "text": [
      "lgr + cv: {'cv__stop_words': None, 'cv__max_features': 2000, 'cv__analyzer': <function stem at 0x7fd4af3a99d0>}\n",
      "lgr + tfidf: {'cv__stop_words': None, 'cv__max_features': 2000, 'cv__analyzer': <function stem at 0x7fd4af3a99d0>}\n",
      "dtree + cv: {'cv__stop_words': 'english', 'cv__max_features': 2000, 'cv__analyzer': 'word'}\n",
      "dtree + tfidf: {'tfidf__stop_words': 'english', 'tfidf__max_features': 2000, 'tfidf__analyzer': 'word'}\n",
      "nb + cv: {'cv__stop_words': 'english', 'cv__max_features': 2000, 'cv__analyzer': <function stem at 0x7fd4af3a99d0>}\n",
      "nb + tfidf: {'tfidf__stop_words': None, 'tfidf__max_features': 2000, 'tfidf__analyzer': <function stem at 0x7fd4af3a99d0>}\n"
     ]
    }
   ],
   "source": [
    "#closer look at params\n",
    "print(f\"lgr + cv: {lgr_cv_params}\")\n",
    "print(f\"lgr + tfidf: {lgr_cv_params}\")\n",
    "print(f\"dtree + cv: {tree_cv_params}\")\n",
    "print(f\"dtree + tfidf: {tree_tf_params}\")\n",
    "print(f\"nb + cv: {nb_cv_params}\")\n",
    "print(f\"nb + tfidf: {nb_tf_params}\")"
   ]
  },
  {
   "cell_type": "markdown",
   "id": "c4feff7e-4995-4bc5-b5a6-c5f34d0646be",
   "metadata": {},
   "source": [
    "#### Comparing Confusion Matrices\n",
    "Confusion matrices indicate the counts of the type of error each model made in the classification task. In these plots, 0 = not suicidal and 1 = suicidal. \n",
    "- The Logistic Regression model has more false negatives than false positives \n",
    "- The Naive Bayes model has a more false positives than false negatives\n",
    "- The Decision Tree model has similar FP and FN counts with slightly more false positives "
   ]
  },
  {
   "cell_type": "code",
   "execution_count": 363,
   "id": "4d6bedec-d9d4-4d27-901e-4b0f1e57feae",
   "metadata": {},
   "outputs": [],
   "source": [
    "#preds\n",
    "log_preds = lgr_tf_grid.predict(X_test)\n",
    "nb_preds = nb_tf_grid.predict(X_test)\n",
    "tree_preds = tree_cv_grid.predict(X_test)"
   ]
  },
  {
   "cell_type": "code",
   "execution_count": 366,
   "id": "5fb3999b-3d8e-4ba0-aef2-608cfc27adac",
   "metadata": {},
   "outputs": [
    {
     "data": {
      "text/plain": [
       "Text(0.5, 1.0, 'Logistic Regression Confusion Matrix')"
      ]
     },
     "execution_count": 366,
     "metadata": {},
     "output_type": "execute_result"
    },
    {
     "data": {
      "image/png": "[encoded data removed]",
      "text/plain": [
       "<Figure size 432x288 with 2 Axes>"
      ]
     },
     "metadata": {},
     "output_type": "display_data"
    }
   ],
   "source": [
    "#logreg \n",
    "ConfusionMatrixDisplay(confusion_matrix(y_test, log_preds)).plot()\n",
    "plt.grid(False)\n",
    "plt.title(\"Logistic Regression Confusion Matrix\")"
   ]
  },
  {
   "cell_type": "code",
   "execution_count": 367,
   "id": "47eace72-bcea-4317-ba66-3917d2088fa9",
   "metadata": {},
   "outputs": [
    {
     "data": {
      "text/plain": [
       "Text(0.5, 1.0, 'Naive Bayes Confusion Matrix')"
      ]
     },
     "execution_count": 367,
     "metadata": {},
     "output_type": "execute_result"
    },
    {
     "data": {
      "image/png": "[encoded data removed]",
      "text/plain": [
       "<Figure size 432x288 with 2 Axes>"
      ]
     },
     "metadata": {},
     "output_type": "display_data"
    }
   ],
   "source": [
    "#naive bayes\n",
    "ConfusionMatrixDisplay(confusion_matrix(y_test, nb_preds)).plot()\n",
    "plt.grid(False)\n",
    "plt.title(\"Naive Bayes Confusion Matrix\")"
   ]
  },
  {
   "cell_type": "code",
   "execution_count": 369,
   "id": "db3ea4a2-1e92-4d20-b9fb-2d83afd9f2aa",
   "metadata": {},
   "outputs": [
    {
     "data": {
      "text/plain": [
       "Text(0.5, 1.0, 'Decision Tree Confusion Matrix')"
      ]
     },
     "execution_count": 369,
     "metadata": {},
     "output_type": "execute_result"
    },
    {
     "data": {
      "image/png": "[encoded data removed]",
      "text/plain": [
       "<Figure size 432x288 with 2 Axes>"
      ]
     },
     "metadata": {},
     "output_type": "display_data"
    }
   ],
   "source": [
    "#decision tree\n",
    "ConfusionMatrixDisplay(confusion_matrix(y_test, tree_preds)).plot()\n",
    "plt.grid(False)\n",
    "plt.title(\"Decision Tree Confusion Matrix\")"
   ]
  },
  {
   "cell_type": "markdown",
   "id": "1d8060cf-4308-4346-8c5b-a05912894442",
   "metadata": {
    "tags": []
   },
   "source": [
    "#### Logistic Regression Model Interpretation "
   ]
  },
  {
   "cell_type": "code",
   "execution_count": null,
   "id": "294ed512-5b42-45a8-a13f-c20101cabf57",
   "metadata": {},
   "outputs": [],
   "source": [
    "#permutation importande "
   ]
  },
  {
   "cell_type": "code",
   "execution_count": 371,
   "id": "9a992f52-8942-4b19-a8bc-a9e97d6841f9",
   "metadata": {},
   "outputs": [
    {
     "ename": "ModuleNotFoundError",
     "evalue": "No module named 'eli5'",
     "output_type": "error",
     "traceback": [
      "\u001b[0;31m---------------------------------------------------------------------------\u001b[0m",
      "\u001b[0;31mModuleNotFoundError\u001b[0m                       Traceback (most recent call last)",
      "Input \u001b[0;32mIn [371]\u001b[0m, in \u001b[0;36m<cell line: 1>\u001b[0;34m()\u001b[0m\n\u001b[0;32m----> 1\u001b[0m \u001b[38;5;28;01mimport\u001b[39;00m \u001b[38;5;21;01meli5\u001b[39;00m\n\u001b[1;32m      2\u001b[0m eli5\u001b[38;5;241m.\u001b[39mshow_weights(clf, top\u001b[38;5;241m=\u001b[39m\u001b[38;5;241m10\u001b[39m)\n",
      "\u001b[0;31mModuleNotFoundError\u001b[0m: No module named 'eli5'"
     ]
    }
   ],
   "source": [
    "eli5.show_weights(clf, top=10)"
   ]
  },
  {
   "cell_type": "code",
   "execution_count": null,
   "id": "c080dcac-22cb-4913-a6d5-a5ef77bc62b0",
   "metadata": {},
   "outputs": [],
   "source": [
    "eli5.show_weights(clf, vec=vec, top=10,\n",
    "                  target_names=twenty_test.target_names)"
   ]
  },
  {
   "cell_type": "code",
   "execution_count": null,
   "id": "b12e8bc3-954e-4679-9392-79b764cb9d17",
   "metadata": {},
   "outputs": [],
   "source": []
  },
  {
   "cell_type": "code",
   "execution_count": null,
   "id": "5ff6bf25-937a-4240-8220-3c33b9b04da7",
   "metadata": {},
   "outputs": [],
   "source": []
  },
  {
   "cell_type": "code",
   "execution_count": null,
   "id": "8cdc57e8-0d06-48ed-9853-421bc02df824",
   "metadata": {},
   "outputs": [],
   "source": [
    "for pipeline in pipelines:\n",
    "    print('Estimator: %s' % (pipeline['name']))\n",
    "    labels = pipeline['pipeline'].classes_.tolist()\n",
    "    \n",
    "    if pipeline['name'] in ['Logistic Regression', 'Random Forest']:\n",
    "        estimator = pipeline['pipeline']\n",
    "    elif pipeline['name'] == 'XGBoost Classifier':\n",
    "        estimator = pipeline['pipeline'].steps[1][1].get_booster()\n",
    "#     Not support Keras\n",
    "#     elif pipeline['name'] == 'keras':\n",
    "#         estimator = pipeline['pipeline']\n",
    "    else:\n",
    "        continue\n",
    "    \n",
    "    IPython.display.display(\n",
    "        eli5.show_weights(estimator=estimator, top=10,\n",
    "        target_names=labels, vec=vec))"
   ]
  },
  {
   "cell_type": "code",
   "execution_count": null,
   "id": "56d1e4b7-9c2c-4585-82e9-1cd3cb38c231",
   "metadata": {},
   "outputs": [],
   "source": []
  },
  {
   "cell_type": "code",
   "execution_count": null,
   "id": "7ee48b65-da76-46b5-b35d-d54a04164eda",
   "metadata": {},
   "outputs": [],
   "source": []
  }
 ],
 "metadata": {
  "kernelspec": {
   "display_name": "Python 3 (ipykernel)",
   "language": "python",
   "name": "python3"
  },
  "language_info": {
   "codemirror_mode": {
    "name": "ipython",
    "version": 3
   },
   "file_extension": ".py",
   "mimetype": "text/x-python",
   "name": "python",
   "nbconvert_exporter": "python",
   "pygments_lexer": "ipython3",
   "version": "3.9.12"
  }
 },
 "nbformat": 4,
 "nbformat_minor": 5
}
