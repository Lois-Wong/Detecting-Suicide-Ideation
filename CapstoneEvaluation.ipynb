{
 "cells": [
  {
   "cell_type": "markdown",
   "id": "38643a5d-aa6e-4a96-a1c4-fed8f22a734e",
   "metadata": {
    "jp-MarkdownHeadingCollapsed": true,
    "tags": []
   },
   "source": [
    "#### Setup\n",
    "Same as before"
   ]
  },
  {
   "cell_type": "code",
   "execution_count": 36,
   "id": "33572154-0bb5-4a1e-8573-47771346b429",
   "metadata": {},
   "outputs": [],
   "source": [
    "import nltk\n",
    "import time\n",
    "import eli5\n",
    "import string\n",
    "import warnings\n",
    "import numpy as np\n",
    "import pandas as pd \n",
    "import seaborn as sns \n",
    "import plotly.express as px\n",
    "import matplotlib.pyplot as plt\n",
    "\n",
    "from eli5.lime import TextExplainer\n",
    "\n",
    "from wordcloud import WordCloud, STOPWORDS\n",
    "\n",
    "from nltk.corpus import stopwords \n",
    "from nltk.tokenize import TweetTokenizer\n",
    "from nltk import word_tokenize, sent_tokenize \n",
    "from nltk.stem import PorterStemmer, WordNetLemmatizer \n",
    "\n",
    "from sklearn.svm import SVC\n",
    "from sklearn.pipeline import Pipeline\n",
    "from sklearn.naive_bayes import MultinomialNB\n",
    "from sklearn.tree import DecisionTreeClassifier\n",
    "from sklearn.neighbors import KNeighborsClassifier\n",
    "from sklearn.linear_model import LogisticRegression\n",
    "from sklearn.preprocessing import StandardScaler, PolynomialFeatures\n",
    "from sklearn.metrics import confusion_matrix, ConfusionMatrixDisplay\n",
    "from sklearn.feature_extraction.text import CountVectorizer, TfidfVectorizer\n",
    "from sklearn.model_selection import train_test_split, GridSearchCV, RandomizedSearchCV \n",
    "from sklearn.metrics import mean_squared_error, accuracy_score, recall_score,f1_score, classification_report\n",
    "\n",
    "sns.set_style(\"whitegrid\")\n",
    "sns.set_palette(\"rocket\")\n",
    "\n",
    "warnings.simplefilter(action='ignore')"
   ]
  },
  {
   "cell_type": "code",
   "execution_count": 24,
   "id": "f1dccd64-b846-4b60-b63f-4c59c280baa3",
   "metadata": {},
   "outputs": [
    {
     "name": "stderr",
     "output_type": "stream",
     "text": [
      "[nltk_data] Downloading package wordnet to /Users/lois/nltk_data...\n",
      "[nltk_data]   Package wordnet is already up-to-date!\n",
      "[nltk_data] Downloading package stopwords to /Users/lois/nltk_data...\n",
      "[nltk_data]   Package stopwords is already up-to-date!\n",
      "[nltk_data] Downloading package omw-1.4 to /Users/lois/nltk_data...\n",
      "[nltk_data]   Package omw-1.4 is already up-to-date!\n"
     ]
    },
    {
     "data": {
      "text/plain": [
       "True"
      ]
     },
     "execution_count": 24,
     "metadata": {},
     "output_type": "execute_result"
    }
   ],
   "source": [
    "nltk.download('wordnet')\n",
    "nltk.download('stopwords')\n",
    "nltk.download('omw-1.4')"
   ]
  },
  {
   "cell_type": "code",
   "execution_count": 37,
   "id": "3cf104aa-63d9-40f6-9e69-a2fe8e521b44",
   "metadata": {},
   "outputs": [],
   "source": [
    "suicide = pd.read_csv(\"/Users/Lois/Downloads/ML ipynb/Capstone/SuicideDetection.csv\")\n",
    "suicide = suicide.sample(20000, random_state = 42)"
   ]
  },
  {
   "cell_type": "code",
   "execution_count": 38,
   "id": "1fc74b72-170a-40df-9b4e-a11172076fd9",
   "metadata": {},
   "outputs": [
    {
     "data": {
      "text/html": [
       "<div>\n",
       "<style scoped>\n",
       "    .dataframe tbody tr th:only-of-type {\n",
       "        vertical-align: middle;\n",
       "    }\n",
       "\n",
       "    .dataframe tbody tr th {\n",
       "        vertical-align: top;\n",
       "    }\n",
       "\n",
       "    .dataframe thead th {\n",
       "        text-align: right;\n",
       "    }\n",
       "</style>\n",
       "<table border=\"1\" class=\"dataframe\">\n",
       "  <thead>\n",
       "    <tr style=\"text-align: right;\">\n",
       "      <th></th>\n",
       "      <th>text</th>\n",
       "      <th>suicide</th>\n",
       "    </tr>\n",
       "  </thead>\n",
       "  <tbody>\n",
       "    <tr>\n",
       "      <th>74414</th>\n",
       "      <td>I Don't know?7? Months self harm free and the ...</td>\n",
       "      <td>1</td>\n",
       "    </tr>\n",
       "    <tr>\n",
       "      <th>149516</th>\n",
       "      <td>I HAVE TO START BECOMING RICH I HAVE TO START ...</td>\n",
       "      <td>0</td>\n",
       "    </tr>\n",
       "    <tr>\n",
       "      <th>12484</th>\n",
       "      <td>A poem (haiku) for u/Me-Game-Dev hi, hello hel...</td>\n",
       "      <td>0</td>\n",
       "    </tr>\n",
       "    <tr>\n",
       "      <th>14043</th>\n",
       "      <td>I've honestly got no idea what to do anymore.I...</td>\n",
       "      <td>1</td>\n",
       "    </tr>\n",
       "    <tr>\n",
       "      <th>30673</th>\n",
       "      <td>Do you ever just cry? Like you just think abou...</td>\n",
       "      <td>0</td>\n",
       "    </tr>\n",
       "  </tbody>\n",
       "</table>\n",
       "</div>"
      ],
      "text/plain": [
       "                                                     text  suicide\n",
       "74414   I Don't know?7? Months self harm free and the ...        1\n",
       "149516  I HAVE TO START BECOMING RICH I HAVE TO START ...        0\n",
       "12484   A poem (haiku) for u/Me-Game-Dev hi, hello hel...        0\n",
       "14043   I've honestly got no idea what to do anymore.I...        1\n",
       "30673   Do you ever just cry? Like you just think abou...        0"
      ]
     },
     "execution_count": 38,
     "metadata": {},
     "output_type": "execute_result"
    }
   ],
   "source": [
    "#only keeping the text and class columns\n",
    "suicide.drop(\"Unnamed: 0\", axis = 1, inplace = True)\n",
    "\n",
    "#renaming \"class\" column as \"suicide\"\n",
    "suicide.rename({\"class\" : \"suicide\"}, axis = 1, inplace = True)\n",
    "\n",
    "#numerically representing the contents of \"suicide\" column\n",
    "suicide.replace({\"suicide\" : 1, \"non-suicide\" : 0}, inplace = True)\n",
    "suicide.head()"
   ]
  },
  {
   "cell_type": "code",
   "execution_count": 39,
   "id": "60f19844-bb68-4516-9985-fcf510befc69",
   "metadata": {},
   "outputs": [],
   "source": [
    "#train test split\n",
    "X = suicide['text']\n",
    "y = suicide['suicide']\n",
    "X_train, X_test, y_train, y_test = train_test_split(X, y, test_size = 0.25, random_state = 42)"
   ]
  },
  {
   "cell_type": "code",
   "execution_count": 40,
   "id": "3f4629e1-0e63-4549-8817-3e0ddc1ee2f0",
   "metadata": {},
   "outputs": [],
   "source": [
    "#tokenization, stop word removal, punctuation removal, lower casing, and stemming\n",
    "def preprocess_text(text):\n",
    "    tokenizer = TweetTokenizer(preserve_case = False)\n",
    "    swords = stopwords.words('english')\n",
    "    punc = list(string.punctuation)\n",
    "    stemmer = PorterStemmer()\n",
    "    \n",
    "    proprocessed_text = []\n",
    "    for entry in text:\n",
    "        tokens = tokenizer.tokenize(entry)\n",
    "        proprocessed_text.append([stemmer.stem(word) for word in tokens if word not in swords and word not in punc])\n",
    "    return proprocessed_text"
   ]
  },
  {
   "cell_type": "code",
   "execution_count": 41,
   "id": "ece009f2-8553-457e-a273-b943cdbb70aa",
   "metadata": {},
   "outputs": [],
   "source": [
    "#preprocessing\n",
    "pX_train = preprocess_text(X_train)\n",
    "pX_train = [' '.join(x) for x in pX_train]\n",
    "\n",
    "pX_test = preprocess_text(X_test)\n",
    "pX_test = [' '.join(x) for x in pX_test]"
   ]
  },
  {
   "cell_type": "markdown",
   "id": "9b76f00f-9b81-475b-a2ef-908b540bf346",
   "metadata": {},
   "source": [
    "#### Model Interpretation \n",
    "We will be using the eli5 library to interpret the SVC model. "
   ]
  },
  {
   "cell_type": "code",
   "execution_count": 42,
   "id": "82b71a91-fc49-4ca2-a547-a9209ade804e",
   "metadata": {},
   "outputs": [],
   "source": [
    "#SVC model\n",
    "svc = Pipeline([\n",
    "    ('tfidf', TfidfVectorizer()),\n",
    "    ('svc', SVC(kernel = 'linear', decision_function_shape = 'ovo'))\n",
    "]).fit(pX_train, y_train)"
   ]
  },
  {
   "cell_type": "markdown",
   "id": "c476c434-83a1-4bf6-a6c1-d2c64259c3a7",
   "metadata": {},
   "source": [
    "##### Model Stats"
   ]
  },
  {
   "cell_type": "code",
   "execution_count": 75,
   "id": "ee3bbff3-ec99-4f3f-a252-7a4424b9d399",
   "metadata": {},
   "outputs": [
    {
     "name": "stdout",
     "output_type": "stream",
     "text": [
      "              precision    recall  f1-score   support\n",
      "\n",
      "           0       0.92      0.93      0.92      2487\n",
      "           1       0.93      0.92      0.92      2513\n",
      "\n",
      "    accuracy                           0.92      5000\n",
      "   macro avg       0.92      0.92      0.92      5000\n",
      "weighted avg       0.92      0.92      0.92      5000\n",
      "\n",
      "accuracy: 0.924\n"
     ]
    }
   ],
   "source": [
    "y_pred = svc.predict(pX_test)\n",
    "print(classification_report(y_test, y_pred))\n",
    "print(\"accuracy: {:0.3f}\".format(accuracy_score(y_test, y_pred)))"
   ]
  },
  {
   "cell_type": "markdown",
   "id": "632d5284-7bf7-4ac6-9655-e8603bebc7b2",
   "metadata": {},
   "source": [
    "**Example prediction of a non-suicidal post**\n",
    "\n",
    "Recall that 0 = not suicidal and 1 = suicidal"
   ]
  },
  {
   "cell_type": "code",
   "execution_count": 52,
   "id": "014961a7-b6ef-4559-9bb2-4c88235893e3",
   "metadata": {},
   "outputs": [
    {
     "name": "stdout",
     "output_type": "stream",
     "text": [
      "Predicted class: 0 \n",
      "Actual class: 0 \n",
      "Post: A teenage love story. So it all started in 2nd grade. I really liked that one girl in my class (let's call her Sara for sake of privacy) and never knew how to tell her. \n",
      "\n",
      "Fast forward to 3rd grade and our teacher was pissed at our class so she decided to rearrange our seats, now... take a hot guess, who was chosen to seat with me. If you guessed Sara, you were right.\n",
      "\n",
      "We started getting along, having fun on lessons and lunch breaks. We were best friends.\n",
      "\n",
      "Fast forward again now to 4th grade. All the classes were mixed and we sadly weren't in the same one. We still hung out and stuff but didn't have as much time for each other as before. Year 2016, February 14th, Valentines day. \"It's my chance!\" so since we didn't finish lessons at the same time I gave my close friend a letter from me to give to her after school. He gave it to her. Same day, just after class, she messages me and tells me she had a big crush on me since 1st grade \"The fuck!?\" was exactly what I wanted to say. So we started dating (as much as two 10 year olds can date).\n",
      "\n",
      "5th grade. I was moving to another house so we broke up. Damn, I really liked her (and I still do).\n",
      "\n",
      "Fast forward to 9th grade (present day). Guess what. I'm in the same school as Sara. Our school is now in a 3 month lockdown so we have online lessons. While still in different classes, we text each other and have fun. I even have a plan to ask her out as soon as we get back to school and I'll keep you updated.\n"
     ]
    }
   ],
   "source": [
    "#example prediction of the first datapoint\n",
    "y_pred0 = svc.predict(pX_test)[0]\n",
    "print(f'Predicted class: {y_pred0} \\nActual class: {y_test.iloc[0]} \\nPost: {X_test.iloc[0]}')"
   ]
  },
  {
   "cell_type": "markdown",
   "id": "1ec2acf9-7cd0-44bf-9cda-7bf91d7c9981",
   "metadata": {},
   "source": [
    "**Example prediction of a suicidal post**"
   ]
  },
  {
   "cell_type": "code",
   "execution_count": 54,
   "id": "05825aca-9e73-44ee-a888-bfbc2036822f",
   "metadata": {},
   "outputs": [
    {
     "name": "stdout",
     "output_type": "stream",
     "text": [
      "Predicted class: 1 \n",
      "Actual class: 1 \n",
      "Post: I don't want to feel this way.I just want to get my meds straightened out and be happy. I don't want to feel sad, worthless, or like life is pointless. I want to enjoy life again and feel like others love me. \n",
      "\n",
      "I just need someone to tell me that it'll all get straightened out and I'll be happy again. I really need some one to reassure me because it all feels so bleak. I'm sorry. \n"
     ]
    }
   ],
   "source": [
    "y_pred1 = svc.predict(pX_test)[1]\n",
    "print(f'Predicted class: {y_pred1} \\nActual class: {y_test.iloc[1]} \\nPost: {X_test.iloc[1]}')"
   ]
  },
  {
   "cell_type": "markdown",
   "id": "ff5afcc0-c2f2-4afc-ae6a-9e80e3b30ad3",
   "metadata": {},
   "source": [
    "#### eli5"
   ]
  },
  {
   "cell_type": "code",
   "execution_count": 80,
   "id": "25e1f518-9947-4a54-bffb-0fecad3ecf2d",
   "metadata": {},
   "outputs": [
    {
     "data": {
      "text/html": [
       "\n",
       "    <style>\n",
       "    table.eli5-weights tr:hover {\n",
       "        filter: brightness(85%);\n",
       "    }\n",
       "</style>\n",
       "\n",
       "\n",
       "\n",
       "    \n",
       "\n",
       "    \n",
       "\n",
       "    \n",
       "\n",
       "    \n",
       "\n",
       "    \n",
       "\n",
       "    \n",
       "\n",
       "\n",
       "    \n",
       "\n",
       "    \n",
       "\n",
       "    \n",
       "\n",
       "    \n",
       "        \n",
       "\n",
       "    \n",
       "\n",
       "        \n",
       "            \n",
       "                \n",
       "                \n",
       "    \n",
       "        <p style=\"margin-bottom: 0.5em; margin-top: 0em\">\n",
       "            <b>\n",
       "    \n",
       "        y=1\n",
       "    \n",
       "</b>\n",
       "\n",
       "top features\n",
       "        </p>\n",
       "    \n",
       "    <table class=\"eli5-weights\"\n",
       "           style=\"border-collapse: collapse; border: none; margin-top: 0em; table-layout: auto; margin-bottom: 2em;\">\n",
       "        <thead>\n",
       "        <tr style=\"border: none;\">\n",
       "            \n",
       "                <th style=\"padding: 0 1em 0 0.5em; text-align: right; border: none;\" title=\"Feature weights. Note that weights do not account for feature value scales, so if feature values have different scales, features with highest weights might not be the most important.\">\n",
       "                    Weight<sup>?</sup>\n",
       "                </th>\n",
       "            \n",
       "            <th style=\"padding: 0 0.5em 0 0.5em; text-align: left; border: none;\">Feature</th>\n",
       "            \n",
       "        </tr>\n",
       "        </thead>\n",
       "        <tbody>\n",
       "        \n",
       "            <tr style=\"background-color: hsl(120, 100.00%, 80.00%); border: none;\">\n",
       "    <td style=\"padding: 0 1em 0 0.5em; text-align: right; border: none;\">\n",
       "        +7.969\n",
       "    </td>\n",
       "    <td style=\"padding: 0 0.5em 0 0.5em; text-align: left; border: none;\">\n",
       "        suicid\n",
       "    </td>\n",
       "    \n",
       "</tr>\n",
       "        \n",
       "            <tr style=\"background-color: hsl(120, 100.00%, 84.89%); border: none;\">\n",
       "    <td style=\"padding: 0 1em 0 0.5em; text-align: right; border: none;\">\n",
       "        +5.339\n",
       "    </td>\n",
       "    <td style=\"padding: 0 0.5em 0 0.5em; text-align: left; border: none;\">\n",
       "        kill\n",
       "    </td>\n",
       "    \n",
       "</tr>\n",
       "        \n",
       "            <tr style=\"background-color: hsl(120, 100.00%, 87.98%); border: none;\">\n",
       "    <td style=\"padding: 0 1em 0 0.5em; text-align: right; border: none;\">\n",
       "        +3.849\n",
       "    </td>\n",
       "    <td style=\"padding: 0 0.5em 0 0.5em; text-align: left; border: none;\">\n",
       "        end\n",
       "    </td>\n",
       "    \n",
       "</tr>\n",
       "        \n",
       "            <tr style=\"background-color: hsl(120, 100.00%, 89.30%); border: none;\">\n",
       "    <td style=\"padding: 0 1em 0 0.5em; text-align: right; border: none;\">\n",
       "        +3.259\n",
       "    </td>\n",
       "    <td style=\"padding: 0 0.5em 0 0.5em; text-align: left; border: none;\">\n",
       "        pill\n",
       "    </td>\n",
       "    \n",
       "</tr>\n",
       "        \n",
       "            <tr style=\"background-color: hsl(120, 100.00%, 89.60%); border: none;\">\n",
       "    <td style=\"padding: 0 1em 0 0.5em; text-align: right; border: none;\">\n",
       "        +3.131\n",
       "    </td>\n",
       "    <td style=\"padding: 0 0.5em 0 0.5em; text-align: left; border: none;\">\n",
       "        life\n",
       "    </td>\n",
       "    \n",
       "</tr>\n",
       "        \n",
       "            <tr style=\"background-color: hsl(120, 100.00%, 89.87%); border: none;\">\n",
       "    <td style=\"padding: 0 1em 0 0.5em; text-align: right; border: none;\">\n",
       "        +3.015\n",
       "    </td>\n",
       "    <td style=\"padding: 0 0.5em 0 0.5em; text-align: left; border: none;\">\n",
       "        die\n",
       "    </td>\n",
       "    \n",
       "</tr>\n",
       "        \n",
       "            <tr style=\"background-color: hsl(120, 100.00%, 90.20%); border: none;\">\n",
       "    <td style=\"padding: 0 1em 0 0.5em; text-align: right; border: none;\">\n",
       "        +2.878\n",
       "    </td>\n",
       "    <td style=\"padding: 0 0.5em 0 0.5em; text-align: left; border: none;\">\n",
       "        live\n",
       "    </td>\n",
       "    \n",
       "</tr>\n",
       "        \n",
       "            <tr style=\"background-color: hsl(120, 100.00%, 90.46%); border: none;\">\n",
       "    <td style=\"padding: 0 1em 0 0.5em; text-align: right; border: none;\">\n",
       "        +2.768\n",
       "    </td>\n",
       "    <td style=\"padding: 0 0.5em 0 0.5em; text-align: left; border: none;\">\n",
       "        hang\n",
       "    </td>\n",
       "    \n",
       "</tr>\n",
       "        \n",
       "            <tr style=\"background-color: hsl(120, 100.00%, 90.72%); border: none;\">\n",
       "    <td style=\"padding: 0 1em 0 0.5em; text-align: right; border: none;\">\n",
       "        +2.659\n",
       "    </td>\n",
       "    <td style=\"padding: 0 0.5em 0 0.5em; text-align: left; border: none;\">\n",
       "        anymor\n",
       "    </td>\n",
       "    \n",
       "</tr>\n",
       "        \n",
       "            <tr style=\"background-color: hsl(120, 100.00%, 90.73%); border: none;\">\n",
       "    <td style=\"padding: 0 1em 0 0.5em; text-align: right; border: none;\">\n",
       "        +2.657\n",
       "    </td>\n",
       "    <td style=\"padding: 0 0.5em 0 0.5em; text-align: left; border: none;\">\n",
       "        overdos\n",
       "    </td>\n",
       "    \n",
       "</tr>\n",
       "        \n",
       "        \n",
       "            <tr style=\"background-color: hsl(120, 100.00%, 90.73%); border: none;\">\n",
       "                <td colspan=\"2\" style=\"padding: 0 0.5em 0 0.5em; text-align: center; border: none; white-space: nowrap;\">\n",
       "                    <i>&hellip; 6538 more positive &hellip;</i>\n",
       "                </td>\n",
       "            </tr>\n",
       "        \n",
       "\n",
       "        \n",
       "            <tr style=\"background-color: hsl(0, 100.00%, 80.00%); border: none;\">\n",
       "                <td colspan=\"2\" style=\"padding: 0 0.5em 0 0.5em; text-align: center; border: none; white-space: nowrap;\">\n",
       "                    <i>&hellip; 6903 more negative &hellip;</i>\n",
       "                </td>\n",
       "            </tr>\n",
       "        \n",
       "        \n",
       "\n",
       "        </tbody>\n",
       "    </table>\n",
       "\n",
       "            \n",
       "        \n",
       "\n",
       "        \n",
       "\n",
       "\n",
       "\n",
       "    \n",
       "\n",
       "    \n",
       "\n",
       "    \n",
       "\n",
       "    \n",
       "\n",
       "\n",
       "    \n",
       "\n",
       "    \n",
       "\n",
       "    \n",
       "\n",
       "    \n",
       "\n",
       "    \n",
       "\n",
       "    \n",
       "\n",
       "\n",
       "    \n",
       "\n",
       "    \n",
       "\n",
       "    \n",
       "\n",
       "    \n",
       "\n",
       "    \n",
       "\n",
       "    \n",
       "\n",
       "\n",
       "\n"
      ],
      "text/plain": [
       "<IPython.core.display.HTML object>"
      ]
     },
     "execution_count": 80,
     "metadata": {},
     "output_type": "execute_result"
    }
   ],
   "source": [
    "#the most important features\n",
    "eli5.show_weights(svc, top=10)"
   ]
  },
  {
   "cell_type": "code",
   "execution_count": null,
   "id": "eb83afa7-fef6-4f51-b770-1d3f42fca711",
   "metadata": {},
   "outputs": [],
   "source": []
  }
 ],
 "metadata": {
  "kernelspec": {
   "display_name": "Python 3 (ipykernel)",
   "language": "python",
   "name": "python3"
  },
  "language_info": {
   "codemirror_mode": {
    "name": "ipython",
    "version": 3
   },
   "file_extension": ".py",
   "mimetype": "text/x-python",
   "name": "python",
   "nbconvert_exporter": "python",
   "pygments_lexer": "ipython3",
   "version": "3.9.12"
  }
 },
 "nbformat": 4,
 "nbformat_minor": 5
}
