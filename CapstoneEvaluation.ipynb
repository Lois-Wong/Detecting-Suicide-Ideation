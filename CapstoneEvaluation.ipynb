{
 "cells": [
  {
   "cell_type": "code",
   "execution_count": null,
   "id": "00bacc13-bffd-4fdb-9569-536f4d56e02a",
   "metadata": {},
   "outputs": [],
   "source": []
  },
  {
   "cell_type": "markdown",
   "id": "9b76f00f-9b81-475b-a2ef-908b540bf346",
   "metadata": {},
   "source": [
    "#### Model Interpretation \n",
    "We will be using the eli5 library to interpret the SVC model. "
   ]
  },
  {
   "cell_type": "code",
   "execution_count": null,
   "id": "82b71a91-fc49-4ca2-a547-a9209ade804e",
   "metadata": {},
   "outputs": [],
   "source": [
    "#SVC model"
   ]
  },
  {
   "cell_type": "code",
   "execution_count": null,
   "id": "4d308ba9-dae8-4915-b512-486f811d1850",
   "metadata": {},
   "outputs": [],
   "source": [
    "#permutation importance "
   ]
  },
  {
   "cell_type": "code",
   "execution_count": null,
   "id": "64036b2f-f0a1-4e84-b602-75a03a1cd1f0",
   "metadata": {},
   "outputs": [],
   "source": [
    "eli5.show_weights(svc_grid, top = 10)"
   ]
  },
  {
   "cell_type": "code",
   "execution_count": null,
   "id": "9b541a59-9aa6-49c1-ab83-6df6e2006089",
   "metadata": {},
   "outputs": [],
   "source": [
    "eli5.show_weights(clf, vec=vec, top=10,\n",
    "                  target_names=twenty_test.target_names)"
   ]
  },
  {
   "cell_type": "code",
   "execution_count": null,
   "id": "168bf810-4e59-40ea-ba06-fbec0528f707",
   "metadata": {},
   "outputs": [],
   "source": []
  }
 ],
 "metadata": {
  "kernelspec": {
   "display_name": "Python 3 (ipykernel)",
   "language": "python",
   "name": "python3"
  },
  "language_info": {
   "codemirror_mode": {
    "name": "ipython",
    "version": 3
   },
   "file_extension": ".py",
   "mimetype": "text/x-python",
   "name": "python",
   "nbconvert_exporter": "python",
   "pygments_lexer": "ipython3",
   "version": "3.9.12"
  }
 },
 "nbformat": 4,
 "nbformat_minor": 5
}
